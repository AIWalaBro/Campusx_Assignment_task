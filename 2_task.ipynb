{
  "nbformat": 4,
  "nbformat_minor": 0,
  "metadata": {
    "colab": {
      "provenance": [],
      "authorship_tag": "ABX9TyNgVshkwqPM7tdjOo81GfFQ",
      "include_colab_link": true
    },
    "kernelspec": {
      "name": "python3",
      "display_name": "Python 3"
    },
    "language_info": {
      "name": "python"
    }
  },
  "cells": [
    {
      "cell_type": "markdown",
      "metadata": {
        "id": "view-in-github",
        "colab_type": "text"
      },
      "source": [
        "<a href=\"https://colab.research.google.com/github/AIWalaBro/Campusx_Assignment_task/blob/main/2_task.ipynb\" target=\"_parent\"><img src=\"https://colab.research.google.com/assets/colab-badge.svg\" alt=\"Open In Colab\"/></a>"
      ]
    },
    {
      "cell_type": "markdown",
      "source": [
        "### `Problem 1`: Write a program that will give you in hand monthly salary after deduction on CTC - HRA(10%), DA(5%), PF(3%) and taxes deduction as below:\n",
        "\n",
        "> Salary(Lakhs) : Tax(%)\n",
        "\n",
        "*   Below 5 : 0%\n",
        "*   5-10 : 10%\n",
        "*   10-20 : 20%\n",
        "*   aboove 20 : 30%"
      ],
      "metadata": {
        "id": "KgQl_VQqpS0y"
      }
    },
    {
      "cell_type": "code",
      "execution_count": null,
      "metadata": {
        "colab": {
          "base_uri": "https://localhost:8080/"
        },
        "id": "ZpxJWEMLpP1o",
        "outputId": "783162fe-7d9d-4925-a966-3a5d1b699dd7"
      },
      "outputs": [
        {
          "output_type": "stream",
          "name": "stdout",
          "text": [
            "enter the ctc:1500000\n",
            "your in hand salaray is: 77500.0\n"
          ]
        }
      ],
      "source": [
        "# Write code here\n",
        "ctc = int(input('enter the ctc:'))\n",
        "ded = ((100-82)/100)*100\n",
        "\n",
        "if ctc < 500000:\n",
        "  hr_ded = (ctc/100)*ded\n",
        "  ctc = ctc-hr_ded\n",
        "  print('your in hand salary is:',round(ctc/12,2))\n",
        "\n",
        "elif ctc < 1000000:\n",
        "  ctc_10 =  (ctc/100)*(10)\n",
        "  hr_ded = (ctc/100)*ded\n",
        "  total_ded = ctc_10 + hr_ded\n",
        "  in_hand_salary = ctc-total_ded\n",
        "  print('your in hand salaray is:',round(in_hand_salary/12,2))\n",
        "\n",
        "elif ctc < 2000000:\n",
        "  ctc_20 =  (ctc/100)*(20)\n",
        "  hr_ded = (ctc/100)*ded\n",
        "  total_ded = ctc_20 + hr_ded\n",
        "  in_hand_salary = ctc-total_ded\n",
        "  print('your in hand salaray is:',round(in_hand_salary/12,2))\n",
        "else:\n",
        "  ctc_30 =  (ctc/100)*(30)\n",
        "  hr_ded = (ctc/100)*ded\n",
        "  total_ded = ctc_30 + hr_ded\n",
        "  in_hand_salary = ctc-total_ded\n",
        "  print('your in hand salaray is:',round(in_hand_salary/12,2))\n",
        "\n",
        "\n"
      ]
    },
    {
      "cell_type": "markdown",
      "source": [
        "### `Problem 3`: Write a program that will take user input of cost price and selling price and determines whether its a loss or a profit."
      ],
      "metadata": {
        "id": "rhmfHKaEpYay"
      }
    },
    {
      "cell_type": "code",
      "source": [
        "# Write code here\n",
        "cost_price = int(input('enter product cost price:'))\n",
        "selling_price = int(input('enter selling price:'))\n",
        "profit = selling_price - cost_price\n",
        "if cost_price < selling_price:\n",
        "  print(\"you got an profit:\",profit)\n",
        "else:\n",
        "  print('you got an loss')"
      ],
      "metadata": {
        "colab": {
          "base_uri": "https://localhost:8080/"
        },
        "id": "xK8lbHnEpaVa",
        "outputId": "f15e2ba1-200b-4966-9f88-ea719dd534f1"
      },
      "execution_count": null,
      "outputs": [
        {
          "output_type": "stream",
          "name": "stdout",
          "text": [
            "enter product cost price:5\n",
            "enter selling price:10\n",
            "you got an profit: 5\n"
          ]
        }
      ]
    },
    {
      "cell_type": "markdown",
      "source": [
        "### `Problem 4`: Write a menu-driven program -\n",
        "1. cm to ft\n",
        "2. km to miles\n",
        "3. USD to INR\n",
        "4. exit"
      ],
      "metadata": {
        "id": "FMiwiWehpd_q"
      }
    },
    {
      "cell_type": "code",
      "source": [
        "# Write code here\n",
        "\n",
        "user_input = input('''\n",
        "Hi, tap below numbers\n",
        "1. cm to ft\n",
        "2. km to miles\n",
        "3. USD to INR\n",
        "4. exit\n",
        "''')\n",
        "\n",
        "if user_input == '1':\n",
        "  cm = float(input('enter the cm:'))\n",
        "  feet = cm * 0.0328084\n",
        "  print(f'the conversion of {cm} into feet is:',feet)\n",
        "\n",
        "elif user_input == '2':\n",
        "  km = float(input('enter the km:'))\n",
        "  miles = km * 0.621371\n",
        "  print(f'the conversion of {km} into miles is:',miles)\n",
        "\n",
        "elif user_input == '3':\n",
        "  USD = float(input('enter the USD:'))\n",
        "  INR = USD * 80\n",
        "  print(f'the conversion of {USD} into INR is:',INR)\n",
        "\n",
        "else:\n",
        "  print('closing the menu..')\n",
        "  exit()"
      ],
      "metadata": {
        "colab": {
          "base_uri": "https://localhost:8080/"
        },
        "id": "tMrWqwVPpgGB",
        "outputId": "e1ff6bd5-db2a-4911-d22c-fa9672ba3240"
      },
      "execution_count": null,
      "outputs": [
        {
          "output_type": "stream",
          "name": "stdout",
          "text": [
            "\n",
            "Hi, tap below numbers\n",
            "1. cm to ft\n",
            "2. km to miles\n",
            "3. USD to INR\n",
            "4. exit\n",
            "3\n",
            "enter the USD5\n",
            "the conversion of 5.0 into INR is: 400.0\n"
          ]
        }
      ]
    },
    {
      "cell_type": "markdown",
      "source": [
        "### `Problem 5` - Exercise 12: Display Fibonacci series up to 10 terms.\n",
        "\n",
        "*Note: The Fibonacci Sequence is a series of numbers. The next number is found by adding up the two numbers before it. The first two numbers are 0 and 1. For example, 0, 1, 1, 2, 3, 5, 8, 13, 21. The next number in this series above is 13+21 = 34*"
      ],
      "metadata": {
        "id": "uxQ8bNlWpkFi"
      }
    },
    {
      "cell_type": "code",
      "source": [
        "num1, num2 = 0,1\n",
        "for i in range(0,10):\n",
        "  print(num1)\n",
        "  next = num1+num2\n",
        "  num1 = num2\n",
        "  num2 = next\n",
        "\n"
      ],
      "metadata": {
        "colab": {
          "base_uri": "https://localhost:8080/"
        },
        "id": "mD7ExMV5pmEa",
        "outputId": "2531ea02-6ceb-447a-d84b-6bb724bbc3fa"
      },
      "execution_count": null,
      "outputs": [
        {
          "output_type": "stream",
          "name": "stdout",
          "text": [
            "0\n",
            "1\n",
            "1\n",
            "2\n",
            "3\n",
            "5\n",
            "8\n",
            "13\n",
            "21\n",
            "34\n"
          ]
        }
      ]
    },
    {
      "cell_type": "markdown",
      "source": [
        "### `Problem 6` - Find the factorial of a given number.\n",
        "\n",
        "Write a program to use the loop to find the factorial of a given number.\n",
        "\n",
        "The factorial (symbol: `!`) means to multiply all whole numbers from the chosen number down to 1.\n",
        "\n",
        "For example: calculate the factorial of 5\n",
        "\n",
        "```bash\n",
        "5! = 5 × 4 × 3 × 2 × 1 = 120\n",
        "```\n",
        "\n",
        "Output:\n",
        "\n",
        "```bash\n",
        "120\n",
        "```"
      ],
      "metadata": {
        "id": "ngr2p0keppfL"
      }
    },
    {
      "cell_type": "code",
      "source": [
        "# write a code herer\n",
        "num = int(input('enter the factorial num:'))\n",
        "fact = 1\n",
        "for i in range(1, num+1):\n",
        "  fact = fact * i\n",
        "print(fact)"
      ],
      "metadata": {
        "colab": {
          "base_uri": "https://localhost:8080/"
        },
        "id": "Ivyg8SYupyA7",
        "outputId": "8ba1e8df-7676-4bb2-9e75-56d9a89a968a"
      },
      "execution_count": null,
      "outputs": [
        {
          "output_type": "stream",
          "name": "stdout",
          "text": [
            "enter the factorial num:5\n",
            "120\n"
          ]
        }
      ]
    },
    {
      "cell_type": "markdown",
      "source": [
        "### `Problem 7` - Reverse a given integer number.\n",
        "\n",
        "Example:\n",
        "\n",
        "`Input:`\n",
        "\n",
        "```bash\n",
        "76542\n",
        "```\n",
        "\n",
        "`Output:`\n",
        "\n",
        "```bash\n",
        "24567\n",
        "```"
      ],
      "metadata": {
        "id": "YO1p9JYHp25k"
      }
    },
    {
      "cell_type": "code",
      "source": [
        "# Write code here\n",
        "num = int(input('enter the number:'))\n",
        "rev = 0\n",
        "while num>0:\n",
        "  last = num%10\n",
        "  rev = rev*10 + last\n",
        "  num = num//10\n",
        "\n",
        "print(rev)\n",
        "\n"
      ],
      "metadata": {
        "colab": {
          "base_uri": "https://localhost:8080/"
        },
        "id": "m58Wx9AXp5XE",
        "outputId": "c4cf245b-5920-428a-bf32-bb24083c9523"
      },
      "execution_count": null,
      "outputs": [
        {
          "output_type": "stream",
          "name": "stdout",
          "text": [
            "enter the number:12345\n",
            "54321\n"
          ]
        }
      ]
    },
    {
      "cell_type": "markdown",
      "source": [
        "### `Problem 8`: Take a user input as integer N. Find out the sum from 1 to N. If any number if divisible by 5, then skip that number. And if the sum is greater than 300, don't need to calculate the sum further more. Print the final result. And don't use for loop to solve this problem.\n",
        "\n",
        "**Example 1:**\n",
        "\n",
        "`Input:`\n",
        "\n",
        "```bash\n",
        "30\n",
        "```\n",
        "\n",
        "`Output:`\n",
        "\n",
        "```bash\n",
        "276\n",
        "```"
      ],
      "metadata": {
        "id": "Z2Qzio1_p8PV"
      }
    },
    {
      "cell_type": "markdown",
      "source": [
        "### via for loop"
      ],
      "metadata": {
        "id": "QG2najvbWVG-"
      }
    },
    {
      "cell_type": "code",
      "source": [
        "# Write code here\n",
        "num = int(input('enter the number:'))\n",
        "# calculate the sum 1 to n\n",
        "sum = 0\n",
        "for i in range(1, num+1):\n",
        "  if i % 5 == 0:\n",
        "    continue\n",
        "\n",
        "  sum +=i\n",
        "\n",
        "  if sum > 300:\n",
        "    sum -= i\n",
        "    break\n",
        "\n",
        "print(sum)\n"
      ],
      "metadata": {
        "id": "VuJXoLNEqTt_",
        "colab": {
          "base_uri": "https://localhost:8080/"
        },
        "outputId": "cf3a41b6-f637-41fa-d8ce-a08fa8d5bfaf"
      },
      "execution_count": null,
      "outputs": [
        {
          "output_type": "stream",
          "name": "stdout",
          "text": [
            "enter the number:5\n",
            "10\n"
          ]
        }
      ]
    },
    {
      "cell_type": "markdown",
      "source": [
        "# via while loop"
      ],
      "metadata": {
        "id": "jtHjMn3QWYoT"
      }
    },
    {
      "cell_type": "code",
      "source": [
        "num = int(input('enter input '))\n",
        "sum= 0\n",
        "i= 1\n",
        "while i < num+1:\n",
        "  if i%5 == 0:\n",
        "    i+=1\n",
        "    continue\n",
        "\n",
        "  sum+=i\n",
        "\n",
        "  if sum > 300:\n",
        "    sum-=i\n",
        "    break\n",
        "\n",
        "  i+=1\n",
        "print(sum)"
      ],
      "metadata": {
        "colab": {
          "base_uri": "https://localhost:8080/"
        },
        "id": "F4DPHe-2WX-9",
        "outputId": "3e1f909e-c1ab-4a54-9831-0f36fe660a3c"
      },
      "execution_count": null,
      "outputs": [
        {
          "output_type": "stream",
          "name": "stdout",
          "text": [
            "enter input 10\n",
            "40\n"
          ]
        }
      ]
    },
    {
      "cell_type": "markdown",
      "source": [
        "### `Problem 9`: Write a program that keeps on accepting a number from the user until the user enters Zero. Display the sum and average of all the numbers."
      ],
      "metadata": {
        "id": "I_LWMQ-7qWKC"
      }
    },
    {
      "cell_type": "code",
      "source": [
        "# Write code here\n",
        "sum = 0\n",
        "count = 0\n",
        "while True:\n",
        "  num = int(input('enter num:'))\n",
        "  if num == 0:\n",
        "    break\n",
        "  sum = sum + num\n",
        "  count = count+1\n",
        "\n",
        "print('sum', sum)\n",
        "print('avg', sum/count)\n"
      ],
      "metadata": {
        "id": "R5anX6RxqX9A",
        "colab": {
          "base_uri": "https://localhost:8080/"
        },
        "outputId": "771c9bce-e26c-4423-eb2c-3860d0adad1b"
      },
      "execution_count": null,
      "outputs": [
        {
          "output_type": "stream",
          "name": "stdout",
          "text": [
            "enter num9\n",
            "enter num5\n",
            "enter num6\n",
            "enter num7\n",
            "enter num0\n",
            "sum 27\n",
            "avg 6.75\n"
          ]
        }
      ]
    },
    {
      "cell_type": "markdown",
      "source": [
        "###`Problem 9`: Write a program which will find all such numbers which are divisible by 7 but are not a multiple of 5, between 2000 and 3200 (both included). The numbers obtained should be printed in a comma-separated sequence on a single line."
      ],
      "metadata": {
        "id": "Q-hrC8umqaSo"
      }
    },
    {
      "cell_type": "code",
      "source": [
        "# Write code here\n",
        "l = []\n",
        "for i in range(2000, 3200+1):\n",
        "  if i % 7 == 0 and i% 5 != 0:\n",
        "    l.append(str(i))\n",
        "print(\",\".join(l))"
      ],
      "metadata": {
        "id": "uky20riNqeoJ",
        "colab": {
          "base_uri": "https://localhost:8080/"
        },
        "outputId": "36b8ff89-1ebe-4a3c-ea6d-ab904d56b423"
      },
      "execution_count": null,
      "outputs": [
        {
          "output_type": "stream",
          "name": "stdout",
          "text": [
            "2002,2009,2016,2023,2037,2044,2051,2058,2072,2079,2086,2093,2107,2114,2121,2128,2142,2149,2156,2163,2177,2184,2191,2198,2212,2219,2226,2233,2247,2254,2261,2268,2282,2289,2296,2303,2317,2324,2331,2338,2352,2359,2366,2373,2387,2394,2401,2408,2422,2429,2436,2443,2457,2464,2471,2478,2492,2499,2506,2513,2527,2534,2541,2548,2562,2569,2576,2583,2597,2604,2611,2618,2632,2639,2646,2653,2667,2674,2681,2688,2702,2709,2716,2723,2737,2744,2751,2758,2772,2779,2786,2793,2807,2814,2821,2828,2842,2849,2856,2863,2877,2884,2891,2898,2912,2919,2926,2933,2947,2954,2961,2968,2982,2989,2996,3003,3017,3024,3031,3038,3052,3059,3066,3073,3087,3094,3101,3108,3122,3129,3136,3143,3157,3164,3171,3178,3192,3199\n"
          ]
        }
      ]
    },
    {
      "cell_type": "markdown",
      "source": [
        "###`Problem 10`: Write a program, which will find all such numbers between 1000 and 3000 (both included) such that each digit of the number is an even number. The numbers obtained should be printed in a space-separated sequence on a single line.\n",
        "\n"
      ],
      "metadata": {
        "id": "f6q-hP1_qhT5"
      }
    },
    {
      "cell_type": "code",
      "source": [
        "# write code here\n",
        "l = []\n",
        "for i in range(1000, 3001):\n",
        "  flag = True\n",
        "  curr = i\n",
        "\n",
        "  while curr > 0:\n",
        "    last = curr %10\n",
        "    if last % 2 != 0:\n",
        "      flag = False\n",
        "      break\n",
        "    curr = curr//10\n",
        "\n",
        "  if flag:\n",
        "    l.append(str(i))\n",
        "\n",
        "print(\",\".join(l))"
      ],
      "metadata": {
        "id": "HTP5_iVnqjX5",
        "colab": {
          "base_uri": "https://localhost:8080/"
        },
        "outputId": "8c5ef96f-7bbd-480f-c263-a9698bbd539f"
      },
      "execution_count": null,
      "outputs": [
        {
          "output_type": "stream",
          "name": "stdout",
          "text": [
            "2000,2002,2004,2006,2008,2020,2022,2024,2026,2028,2040,2042,2044,2046,2048,2060,2062,2064,2066,2068,2080,2082,2084,2086,2088,2200,2202,2204,2206,2208,2220,2222,2224,2226,2228,2240,2242,2244,2246,2248,2260,2262,2264,2266,2268,2280,2282,2284,2286,2288,2400,2402,2404,2406,2408,2420,2422,2424,2426,2428,2440,2442,2444,2446,2448,2460,2462,2464,2466,2468,2480,2482,2484,2486,2488,2600,2602,2604,2606,2608,2620,2622,2624,2626,2628,2640,2642,2644,2646,2648,2660,2662,2664,2666,2668,2680,2682,2684,2686,2688,2800,2802,2804,2806,2808,2820,2822,2824,2826,2828,2840,2842,2844,2846,2848,2860,2862,2864,2866,2868,2880,2882,2884,2886,2888\n"
          ]
        }
      ]
    },
    {
      "cell_type": "markdown",
      "source": [
        "###`Problem 11`: A robot moves in a plane starting from the original point (0,0). The robot can move toward UP, DOWN, LEFT and RIGHT with a given steps.\n",
        "The trace of robot movement is shown as the following:\n",
        "```\n",
        "UP 5\n",
        "DOWN 3\n",
        "LEFT 3\n",
        "RIGHT 2\n",
        "!\n",
        "```\n",
        "> The numbers after the direction are steps.\n",
        "\n",
        "> `!` means robot stop there.\n",
        "\n",
        "**Please write a program to compute the distance from current position after a sequence of movement and original point.**\n",
        "\n",
        "*If the distance is a float, then just print the nearest integer.*\n",
        "\n",
        "Example:\n",
        "\n",
        "`Input`:\n",
        "```\n",
        "UP 5\n",
        "DOWN 3\n",
        "LEFT 3\n",
        "RIGHT 2\n",
        "!\n",
        "```\n",
        "`Output`:\n",
        "```\n",
        "2\n",
        "```"
      ],
      "metadata": {
        "id": "-l4_Da_QqqQ6"
      }
    },
    {
      "cell_type": "code",
      "source": [
        "# Write code here\n",
        "\n",
        "pos = [0,0]\n",
        "while True:\n",
        "  s = input('enter the direction and steps:')\n",
        "  if s == '!':\n",
        "    print('we are stopping here')\n",
        "    break\n",
        "  direction = s.split()[0]\n",
        "  steps = int(s.split()[1])\n",
        "\n",
        "  if direction == 'UP':\n",
        "    pos[1]  = pos[1] + steps\n",
        "  elif direction == 'DOWN':\n",
        "    pos[1]  = pos[1] - steps\n",
        "  elif direction == 'LEFT':\n",
        "    pos[0]  = pos[0] - steps\n",
        "  elif direction == 'RIGHT':\n",
        "    pos[0]  = pos[0] + steps\n",
        "  else:\n",
        "    pass\n",
        "\n",
        "print('postion',pos)\n",
        "print('distance form the origin', (pos[0]**2 + pos[1]**2)**0.5)\n"
      ],
      "metadata": {
        "id": "DH_mEqbmqq3q",
        "colab": {
          "base_uri": "https://localhost:8080/"
        },
        "outputId": "1b596a1e-f189-40e6-deac-92a23eebf7ef"
      },
      "execution_count": null,
      "outputs": [
        {
          "output_type": "stream",
          "name": "stdout",
          "text": [
            "enter the direction and steps:UP 6\n",
            "enter the direction and steps:DOWN 7\n",
            "enter the direction and steps:RIGHT 10\n",
            "enter the direction and steps:LEFT 20\n",
            "enter the direction and steps:!\n",
            "postion [-10, -1]\n",
            "distance form the origin 10.04987562112089\n"
          ]
        }
      ]
    },
    {
      "cell_type": "markdown",
      "source": [
        "###`Problem 12`:Write a program to print whether a given number is a prime number or not"
      ],
      "metadata": {
        "id": "D-gDtcJVqtmi"
      }
    },
    {
      "cell_type": "code",
      "source": [
        "# Write code here\n",
        "num = int(input('enter the number:'))\n",
        "flag = True\n",
        "for i in range(2, num):\n",
        "  if num % i == 0:\n",
        "    flag = False\n",
        "    break\n",
        "\n",
        "if flag == True:\n",
        "  print('prime')\n",
        "else:\n",
        "  print('not prime')"
      ],
      "metadata": {
        "id": "cR8l4YSpqvUr",
        "colab": {
          "base_uri": "https://localhost:8080/"
        },
        "outputId": "2d098094-1968-4725-be5a-dba961ba81ab"
      },
      "execution_count": null,
      "outputs": [
        {
          "output_type": "stream",
          "name": "stdout",
          "text": [
            "enter the number:19\n",
            "prime\n"
          ]
        }
      ]
    },
    {
      "cell_type": "markdown",
      "source": [
        "###`Problem 13`:Print all the Armstrong numbers in a given range.\n",
        "Range will be provided by the user<br>\n",
        "Armstrong number is a number that is equal to the sum of cubes of its digits. For example 0, 1, 153, 370, 371 and 407 are the Armstrong numbers."
      ],
      "metadata": {
        "id": "UZBRMAh_qxrN"
      }
    },
    {
      "cell_type": "code",
      "source": [
        "def is_armstrong_number(num):\n",
        "    # Calculate the sum of cubes of individual digits\n",
        "    sum = 0\n",
        "    temp = num\n",
        "    while temp > 0:\n",
        "        digit = temp % 10\n",
        "        sum += digit ** 3\n",
        "        temp //= 10\n",
        "\n",
        "    # Check if the number is Armstrong\n",
        "    if num == sum:\n",
        "        return True\n",
        "    else:\n",
        "        return False\n",
        "\n",
        "\n",
        "# Get the range from the user\n",
        "start = int(input(\"Enter the starting number: \"))\n",
        "end = int(input(\"Enter the ending number: \"))\n",
        "\n",
        "print(\"Armstrong numbers in the given range are:\")\n",
        "for number in range(start, end + 1):\n",
        "    if is_armstrong_number(number):\n",
        "        print(number)\n"
      ],
      "metadata": {
        "colab": {
          "base_uri": "https://localhost:8080/"
        },
        "id": "8NnIJovk9ezO",
        "outputId": "5cc7cdb5-7824-4fe0-ddc5-038dc6da465c"
      },
      "execution_count": 5,
      "outputs": [
        {
          "output_type": "stream",
          "name": "stdout",
          "text": [
            "Enter the starting number: 1\n",
            "Enter the ending number: 5\n",
            "Armstrong numbers in the given range are:\n",
            "1\n"
          ]
        }
      ]
    },
    {
      "cell_type": "markdown",
      "source": [
        "###`Problem 14`:Calculate the angle between the hour hand and minute hand.\n",
        "\n",
        "Note: There can be two angles between hands; we need to print a minimum of two. Also, we need to print the floor of the final result angle. For example, if the final angle is 10.61, we need to print 10.\n",
        "\n",
        "Input:<br>\n",
        "H = 9 , M = 0<br>\n",
        "Output:<br>\n",
        "90<br>\n",
        "Explanation:<br>\n",
        "The minimum angle between hour and minute\n",
        "hand when the time is 9 is 90 degress."
      ],
      "metadata": {
        "id": "IjTxCvOcq2DT"
      }
    },
    {
      "cell_type": "code",
      "source": [
        "# write code here\n",
        "import math\n",
        "def calculate_angle(H,M):\n",
        "  angle = abs((0.5*(60*H+M)) - (6*M))\n",
        "  min_angle = min(angle, 360-angle)\n",
        "  floor_angle = math.floor(min_angle)\n",
        "  return floor_angle\n",
        "\n",
        "H = int(input('enter the hour'))\n",
        "M = int(input('enter the minutes'))\n",
        "\n",
        "result = calculate_angle(H,M)\n",
        "print('min angle bewteen hour hand and minute hand is:', result)\n"
      ],
      "metadata": {
        "colab": {
          "base_uri": "https://localhost:8080/"
        },
        "id": "8uP1nBm_B-hO",
        "outputId": "5e07e79e-3a5a-4f14-d191-bb97f9f8ca16"
      },
      "execution_count": 7,
      "outputs": [
        {
          "output_type": "stream",
          "name": "stdout",
          "text": [
            "enter the hour9\n",
            "enter the minutes25\n",
            "min angle bewteen hour hand and minute hand is: 132\n"
          ]
        }
      ]
    },
    {
      "cell_type": "code",
      "source": [
        "# Write code here"
      ],
      "metadata": {
        "id": "3b5r6ZcAq34L"
      },
      "execution_count": null,
      "outputs": []
    },
    {
      "cell_type": "markdown",
      "source": [
        "###`Problem 15`:Given two rectangles, find if the given two rectangles overlap or not. A rectangle is denoted by providing the x and y coordinates of two points: the left top corner and the right bottom corner of the rectangle. Two rectangles sharing a side are considered overlapping. (L1 and R1 are the extreme points of the first rectangle and L2 and R2 are the extreme points of the second rectangle).\n",
        "\n",
        "Note: It may be assumed that the rectangles are parallel to the coordinate axis.\n",
        "\n",
        "<img src='https://www.geeksforgeeks.org/wp-content/uploads/rectanglesOverlap.png' width='300' height='200'>"
      ],
      "metadata": {
        "id": "WwEOjFBgq6n0"
      }
    },
    {
      "cell_type": "code",
      "source": [
        "def do_rectangles_overlap(L1, R1, L2, R2):\n",
        "    # Check if the rectangles overlap\n",
        "    if L1[0] > R2[0] or L2[0] > R1[0]:  # Check if the rectangles do not overlap horizontally\n",
        "        return False\n",
        "\n",
        "    if L1[1] < R2[1] or L2[1] < R1[1]:  # Check if the rectangles do not overlap vertically\n",
        "        return False\n",
        "\n",
        "    return True\n",
        "\n",
        "\n",
        "# Get the input from the user\n",
        "L1 = list(map(int, input(\"Enter the coordinates of the top-left corner of the first rectangle (L1): \").split()))\n",
        "R1 = list(map(int, input(\"Enter the coordinates of the bottom-right corner of the first rectangle (R1): \").split()))\n",
        "L2 = list(map(int, input(\"Enter the coordinates of the top-left corner of the second rectangle (L2): \").split()))\n",
        "R2 = list(map(int, input(\"Enter the coordinates of the bottom-right corner of the second rectangle (R2): \").split()))\n",
        "\n",
        "# Check if the rectangles overlap\n",
        "if do_rectangles_overlap(L1, R1, L2, R2):\n",
        "    print(\"The rectangles overlap.\")\n",
        "else:\n",
        "    print(\"The rectangles do not overlap.\")\n"
      ],
      "metadata": {
        "colab": {
          "base_uri": "https://localhost:8080/"
        },
        "id": "e49MCTh0Mnn6",
        "outputId": "b556989a-604e-4a7c-d37f-7eece0de00b4"
      },
      "execution_count": 12,
      "outputs": [
        {
          "output_type": "stream",
          "name": "stdout",
          "text": [
            "Enter the coordinates of the top-left corner of the first rectangle (L1): 6 7\n",
            "Enter the coordinates of the bottom-right corner of the first rectangle (R1): 7 6\n",
            "Enter the coordinates of the top-left corner of the second rectangle (L2): 6 5\n",
            "Enter the coordinates of the bottom-right corner of the second rectangle (R2): 9 7\n",
            "The rectangles do not overlap.\n"
          ]
        }
      ]
    },
    {
      "cell_type": "code",
      "source": [],
      "metadata": {
        "id": "bP4HOcRoMY_t"
      },
      "execution_count": null,
      "outputs": []
    }
  ]
}