{
  "nbformat": 4,
  "nbformat_minor": 0,
  "metadata": {
    "colab": {
      "provenance": [],
      "authorship_tag": "ABX9TyOT525qrx6SJjEOXVzlVali",
      "include_colab_link": true
    },
    "kernelspec": {
      "name": "python3",
      "display_name": "Python 3"
    },
    "language_info": {
      "name": "python"
    }
  },
  "cells": [
    {
      "cell_type": "markdown",
      "metadata": {
        "id": "view-in-github",
        "colab_type": "text"
      },
      "source": [
        "<a href=\"https://colab.research.google.com/github/AIWalaBro/Campusx_Assignment_task/blob/main/Task1.ipynb\" target=\"_parent\"><img src=\"https://colab.research.google.com/assets/colab-badge.svg\" alt=\"Open In Colab\"/></a>"
      ]
    },
    {
      "cell_type": "markdown",
      "source": [
        "# Q1)\n",
        " input:-\n",
        "- \"Data\" \"Science\" \"Mentorship\" \"Program\"\n",
        "- \"By\" \"CampusX\"\n",
        "\n",
        "output:- Data-Science-Mentorship-Program-started-By-CampusX"
      ],
      "metadata": {
        "id": "fCniFf_1Qa7e"
      }
    },
    {
      "cell_type": "code",
      "source": [
        "solution:-\n",
        "print(\"Data\", \"Science\", \"Mentorship\", \"Program\", sep =\"-\", end = \"-started\")\n",
        "print(\"By\", \"CampusX\", sep=\"-\")"
      ],
      "metadata": {
        "colab": {
          "base_uri": "https://localhost:8080/"
        },
        "id": "OnIT5cuFMw5G",
        "outputId": "f3b4fa1b-1f67-436f-c3aa-7a5110f2b8e2"
      },
      "execution_count": null,
      "outputs": [
        {
          "output_type": "stream",
          "name": "stdout",
          "text": [
            "Data-Science-Mentorship-Program-startedBy-CampusX\n"
          ]
        }
      ]
    },
    {
      "cell_type": "markdown",
      "source": [
        "### Q2:- Write a program that will convert celsius value to fahrenheit."
      ],
      "metadata": {
        "id": "olmXL6vTQq-X"
      }
    },
    {
      "cell_type": "code",
      "source": [
        "# (1°C × 9/5) + 32\n",
        "user_input = int(input('enter the dgree value'))\n",
        "degree_fah = (user_input * 9/5) + 32\n",
        "print(f'degree value is : {user_input} and the value will in degree_fah :{degree_fah} is',degree_fah)"
      ],
      "metadata": {
        "colab": {
          "base_uri": "https://localhost:8080/"
        },
        "id": "Hi5yiawYNDsg",
        "outputId": "90d568d5-15a4-492d-d77f-32c3fe9598e8"
      },
      "execution_count": null,
      "outputs": [
        {
          "output_type": "stream",
          "name": "stdout",
          "text": [
            "enter the dgree value45\n",
            "degree value is : 45 and the value will in degree_fah113.0 is 113.0\n"
          ]
        }
      ]
    },
    {
      "cell_type": "markdown",
      "source": [
        "# Q3:- Take 2 numbers as input from the user.Write a program to swap the numbers without using any special python syntax."
      ],
      "metadata": {
        "id": "UHOCbC-iTwoH"
      }
    },
    {
      "cell_type": "code",
      "source": [
        "a = int(input('enter first num:'))\n",
        "b = int(input('enter second num:'))\n",
        "temp = 0\n",
        "\n",
        "# 1) method\n",
        "# a, b = b,a\n",
        "# print(a,b)\n",
        "\n",
        "\n",
        "# 2) method\n",
        "\n",
        "a = b+a # 30\n",
        "b = a-b # 10\n",
        "a = a-b\n",
        "print(a,b)"
      ],
      "metadata": {
        "colab": {
          "base_uri": "https://localhost:8080/"
        },
        "id": "wwOoecXuRfkd",
        "outputId": "67ffbf61-57dd-4a41-ccf6-dc2d68d0d365"
      },
      "execution_count": null,
      "outputs": [
        {
          "output_type": "stream",
          "name": "stdout",
          "text": [
            "enter first num:10\n",
            "enter second num:20\n",
            "20 10\n"
          ]
        }
      ]
    },
    {
      "cell_type": "markdown",
      "source": [
        "# Q4:- Write a program to find the euclidean distance between two coordinates.Take both the coordinates from the user as input."
      ],
      "metadata": {
        "id": "OufSjVhiVZMl"
      }
    },
    {
      "cell_type": "code",
      "source": [
        "from math import sqrt\n",
        "x1 = int(input('x1 value:'))\n",
        "x2 = int(input('x2 value:'))\n",
        "y1 = int(input('y1 value:'))\n",
        "y2 = int(input('y2 value:'))\n",
        "\n",
        "eucledian_distance = sqrt((x2-x1)**2/(y2-y1)**2)\n",
        "print(eucledian_distance)\n",
        "\n",
        "# you have to handle from if else conditions\n"
      ],
      "metadata": {
        "colab": {
          "base_uri": "https://localhost:8080/"
        },
        "id": "NKac0hQUUx4G",
        "outputId": "58341e63-8b30-454d-d521-ecc38723b79d"
      },
      "execution_count": 1,
      "outputs": [
        {
          "output_type": "stream",
          "name": "stdout",
          "text": [
            "x1 value:10\n",
            "x2 value:20\n",
            "y1 value:30\n",
            "y2 value:40\n",
            "1.0\n"
          ]
        }
      ]
    },
    {
      "cell_type": "markdown",
      "source": [
        "# Q5:- Write a program to find the simple interest when the value of principle,rate of interest and time period is provided by the user."
      ],
      "metadata": {
        "id": "LEqaICzFzi2D"
      }
    },
    {
      "cell_type": "code",
      "source": [
        "p = int(input(\"enter the principal amount:\"))\n",
        "r = int(input('enter the rate of interest:'))\n",
        "t = int(input('enter the time period:'))\n",
        "s_i = (p*r*t)/ 100\n",
        "print(\"simple interest will be:\",s_i)"
      ],
      "metadata": {
        "id": "ZqTIFuz1Xipj",
        "colab": {
          "base_uri": "https://localhost:8080/"
        },
        "outputId": "abce8a74-da97-4f4c-e036-6ba3e4291e81"
      },
      "execution_count": 5,
      "outputs": [
        {
          "output_type": "stream",
          "name": "stdout",
          "text": [
            "enter the principal amount:1000\n",
            "enter the rate of interest:10\n",
            "enter the time period:10\n",
            "simple interest will be: 1000.0\n"
          ]
        }
      ]
    },
    {
      "cell_type": "markdown",
      "source": [
        "# Q6:- Write a program that will tell the number of dogs and chicken are there when the user will provide the value of total heads and legs."
      ],
      "metadata": {
        "id": "OhhWQRFY1nvF"
      }
    },
    {
      "cell_type": "code",
      "source": [
        "chick_head = int(input('enter how many heads of chicken:'))\n",
        "chick_leg = int(input('enter how many no of legs of chicker'))\n",
        "Flag  = True\n",
        "count = 1\n",
        "\n",
        "\n",
        "if True:\n",
        "  chick_head == count* chick_head and chick_leg / 2 == 0\n",
        "  print(f\"the number of chickcen are {chick_head}\")\n",
        "else:\n",
        "  print(f\"odd number of legs are not possible {chick_leg}\")"
      ],
      "metadata": {
        "colab": {
          "base_uri": "https://localhost:8080/"
        },
        "id": "LqW3a4Cs0JRF",
        "outputId": "76b392a8-4895-43cf-b149-b3f1aba3d990"
      },
      "execution_count": 9,
      "outputs": [
        {
          "output_type": "stream",
          "name": "stdout",
          "text": [
            "enter how many heads of chicken:10\n",
            "enter how many no of legs of chicker6\n",
            "the number of chickcen are 10\n"
          ]
        }
      ]
    },
    {
      "cell_type": "markdown",
      "source": [
        "### Q7:- Write a program to find the sum of squares of first n natural numbers where n will be provided by the user."
      ],
      "metadata": {
        "id": "JwZ4ZUhK8u1s"
      }
    },
    {
      "cell_type": "code",
      "source": [
        "# via formula\n",
        "n = int(input('enter the nth number:'))\n",
        "num_sq = ((n*(n+1))*(2*n+1))/6\n",
        "print(\"sq of num is:\",num_sq)"
      ],
      "metadata": {
        "colab": {
          "base_uri": "https://localhost:8080/"
        },
        "id": "UwRikiGc47fe",
        "outputId": "a7637c86-2147-427b-fee2-b23a26480831"
      },
      "execution_count": 12,
      "outputs": [
        {
          "output_type": "stream",
          "name": "stdout",
          "text": [
            "enter the nyh number:5\n",
            "sq of num is: 55.0\n"
          ]
        }
      ]
    },
    {
      "cell_type": "code",
      "source": [
        "# via for loop\n",
        "n = int(input('enter the nth number'))\n",
        "sum_square = 0\n",
        "for i in range(1, n+1):\n",
        "  sum_square += i**2\n",
        "print('sum of natural number', n, 'square will be',sum_square)\n"
      ],
      "metadata": {
        "colab": {
          "base_uri": "https://localhost:8080/"
        },
        "id": "I_dIGbNXASLb",
        "outputId": "0469c592-64c6-4a84-e1d0-227e0b6d1894"
      },
      "execution_count": 16,
      "outputs": [
        {
          "output_type": "stream",
          "name": "stdout",
          "text": [
            "enter the nth number5\n",
            "sum of natural number 5 square will be 55\n"
          ]
        }
      ]
    },
    {
      "cell_type": "markdown",
      "source": [
        "Q8:- Given the first 2 terms of an Arithmetic Series.Find the Nth term of the series. Assume all inputs are provided by the user."
      ],
      "metadata": {
        "id": "Me2HmciiCmHt"
      }
    },
    {
      "cell_type": "code",
      "source": [
        "# by formula\n",
        "a = int(input(\"enter fist term\"))\n",
        "n = int(input(\"enter the nth term\"))\n",
        "diff = n - a\n",
        "a_r = a+(n-1)*diff\n",
        "print(a_r)"
      ],
      "metadata": {
        "colab": {
          "base_uri": "https://localhost:8080/"
        },
        "id": "s5o9ylKGCYWf",
        "outputId": "bee273ae-8b8b-4a05-f70a-ffa909261e8e"
      },
      "execution_count": 27,
      "outputs": [
        {
          "output_type": "stream",
          "name": "stdout",
          "text": [
            "enter fist term3\n",
            "enter the nth term5\n",
            "11\n"
          ]
        }
      ]
    },
    {
      "cell_type": "code",
      "source": [
        "# via loop\n",
        "first_term = int(input('enter the frist term:'))\n",
        "second_term = int(input('enter the second term:'))\n",
        "n = int(input('enter the nth value:'))\n",
        "\n",
        "diff = second_term - first_term\n",
        "\n",
        "current_term = second_term\n",
        "\n",
        "for i in range(first_term, n+1):\n",
        "  current_term += diff\n",
        "\n",
        "print(current_term)"
      ],
      "metadata": {
        "colab": {
          "base_uri": "https://localhost:8080/"
        },
        "id": "JlKBLxGAEdBS",
        "outputId": "d0006c31-c6ad-4294-daa6-5f547a5f5e92"
      },
      "execution_count": 28,
      "outputs": [
        {
          "output_type": "stream",
          "name": "stdout",
          "text": [
            "enter the frist term3\n",
            "enter the second term5\n",
            "enter the nth value10\n",
            "21\n"
          ]
        }
      ]
    },
    {
      "cell_type": "markdown",
      "source": [
        "# Q9:- Given 2 fractions, find the sum of those 2 fractions.Take the numerator and denominator values of the fractions from the user."
      ],
      "metadata": {
        "id": "nyOQUQrXUI59"
      }
    },
    {
      "cell_type": "code",
      "source": [
        "num1 = float(input('enter the numerator1 value :'))\n",
        "num2 = float(input('enter the numerator2 value :'))\n",
        "den1 = float(input('enter the denomenator1 value :'))\n",
        "den2 = float(input('enter the denomenator2 value :'))\n",
        "\n",
        "fraction = (num1*den2 + den2*num2)/(den1*den2)\n",
        "\n",
        "print(fraction)\n",
        "\n"
      ],
      "metadata": {
        "colab": {
          "base_uri": "https://localhost:8080/"
        },
        "id": "AvSgJlXwUM6l",
        "outputId": "a2407fd9-a9e3-480a-8ad4-095e9bcdb8b2"
      },
      "execution_count": 44,
      "outputs": [
        {
          "output_type": "stream",
          "name": "stdout",
          "text": [
            "enter the numerator1 value :2\n",
            "enter the numerator2 value :3\n",
            "enter the denomenator1 value :4\n",
            "enter the denomenator2 value :5\n",
            "1.25\n"
          ]
        }
      ]
    },
    {
      "cell_type": "markdown",
      "source": [
        "### Q10:- Given the height, width and breadth of a milk tank, you have to find out how many glasses of milk can be obtained? Assume all the inputs are provided by the user.\n",
        "\n",
        "\n",
        "\n",
        "Input:<br>\n",
        "Dimensions of the milk tank<br>\n",
        "H = 20cm, L = 20cm, B = 20cm\n",
        "<br><br>\n",
        "Dimensions of the glass<br>\n",
        "h = 3cm, r = 1cm3\n"
      ],
      "metadata": {
        "id": "B0ydkVrWVAq3"
      }
    },
    {
      "cell_type": "code",
      "source": [
        "# dimension of themilk tank\n",
        "import math\n",
        "h = 20\n",
        "l = 20\n",
        "b = 20\n",
        "volume_tank = h*l*b\n",
        "# dimension of the glass\n",
        "ht_glass = 3\n",
        "rad_glass = 1\n",
        "\n",
        "volume_glass = 3.14*(ht_glass**2) * rad_glass\n",
        "\n",
        "glasses = math.floor(volume_tank/volume_glass)\n",
        "print(glasses)\n",
        "\n"
      ],
      "metadata": {
        "colab": {
          "base_uri": "https://localhost:8080/"
        },
        "id": "0Adjgae1JD_j",
        "outputId": "4367c6d0-1895-45a9-c3d8-aa4774e3b458"
      },
      "execution_count": 37,
      "outputs": [
        {
          "output_type": "stream",
          "name": "stdout",
          "text": [
            "283\n"
          ]
        }
      ]
    },
    {
      "cell_type": "code",
      "source": [],
      "metadata": {
        "id": "hvLcnDPJWV0Z"
      },
      "execution_count": null,
      "outputs": []
    }
  ]
}